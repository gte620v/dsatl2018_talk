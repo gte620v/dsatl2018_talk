{
  "nbformat": 4,
  "nbformat_minor": 0,
  "metadata": {
    "colab": {
      "name": "keras_demo",
      "version": "0.3.2",
      "provenance": []
    },
    "kernelspec": {
      "name": "python3",
      "display_name": "Python 3"
    },
    "accelerator": "GPU"
  },
  "cells": [
    {
      "metadata": {
        "id": "RTp0tNsv2UIb",
        "colab_type": "text"
      },
      "cell_type": "markdown",
      "source": [
        "## Keras Digit Demonstration\n",
        "\n",
        "In this exercise, we will use a CNN to classify hand-written digits using Keras.\n",
        "\n",
        "### Imports"
      ]
    },
    {
      "metadata": {
        "id": "jthftiEwBmQd",
        "colab_type": "code",
        "colab": {}
      },
      "cell_type": "code",
      "source": [
        "\n",
        "import numpy as np\n",
        "import time\n",
        "import matplotlib.pyplot as plt\n",
        "import pandas as pd\n",
        "from sklearn.preprocessing import LabelBinarizer, minmax_scale\n",
        "\n",
        "plt.rcParams['figure.figsize'] = (15.0, 3.0)"
      ],
      "execution_count": 0,
      "outputs": []
    },
    {
      "metadata": {
        "id": "Lx-9I9yd2q1X",
        "colab_type": "text"
      },
      "cell_type": "markdown",
      "source": [
        "### Install libraries we will need to visualize our DNN"
      ]
    },
    {
      "metadata": {
        "id": "iRALHelOBnDY",
        "colab_type": "code",
        "colab": {
          "base_uri": "https://localhost:8080/",
          "height": 3244
        },
        "outputId": "4a2e1da4-a0a1-440e-c161-6a192a68ef32"
      },
      "cell_type": "code",
      "source": [
        "!pip install pydot\n",
        "!apt-get install -yq graphviz"
      ],
      "execution_count": 0,
      "outputs": [
        {
          "output_type": "stream",
          "text": [
            "Collecting pydot\n",
            "\u001b[?25l  Downloading https://files.pythonhosted.org/packages/c3/f1/e61d6dfe6c1768ed2529761a68f70939e2569da043e9f15a8d84bf56cadf/pydot-1.2.4.tar.gz (132kB)\n",
            "\u001b[K    100% |████████████████████████████████| 133kB 3.6MB/s \n",
            "\u001b[?25hRequirement already satisfied: pyparsing>=2.1.4 in /usr/local/lib/python3.6/dist-packages (from pydot) (2.2.2)\n",
            "Building wheels for collected packages: pydot\n",
            "  Running setup.py bdist_wheel for pydot ... \u001b[?25l-\b \bdone\n",
            "\u001b[?25h  Stored in directory: /root/.cache/pip/wheels/6a/a5/14/25541ebcdeaf97a37b6d05c7ff15f5bd20f5e91b99d313e5b4\n",
            "Successfully built pydot\n",
            "Installing collected packages: pydot\n",
            "Successfully installed pydot-1.2.4\n",
            "Reading package lists...\n",
            "Building dependency tree...\n",
            "Reading state information...\n",
            "The following additional packages will be installed:\n",
            "  fontconfig libann0 libcairo2 libcdt5 libcgraph6 libdatrie1 libgd3\n",
            "  libgts-0.7-5 libgts-bin libgvc6 libgvpr2 libjbig0 liblab-gamut1 libltdl7\n",
            "  libpango-1.0-0 libpangocairo-1.0-0 libpangoft2-1.0-0 libpathplan4\n",
            "  libpixman-1-0 libthai-data libthai0 libtiff5 libwebp6 libxaw7 libxcb-render0\n",
            "  libxcb-shm0 libxmu6 libxpm4 libxt6\n",
            "Suggested packages:\n",
            "  gsfonts graphviz-doc libgd-tools\n",
            "The following NEW packages will be installed:\n",
            "  fontconfig graphviz libann0 libcairo2 libcdt5 libcgraph6 libdatrie1 libgd3\n",
            "  libgts-0.7-5 libgts-bin libgvc6 libgvpr2 libjbig0 liblab-gamut1 libltdl7\n",
            "  libpango-1.0-0 libpangocairo-1.0-0 libpangoft2-1.0-0 libpathplan4\n",
            "  libpixman-1-0 libthai-data libthai0 libtiff5 libwebp6 libxaw7 libxcb-render0\n",
            "  libxcb-shm0 libxmu6 libxpm4 libxt6\n",
            "0 upgraded, 30 newly installed, 0 to remove and 4 not upgraded.\n",
            "Need to get 4,154 kB of archives.\n",
            "After this operation, 16.1 MB of additional disk space will be used.\n",
            "Get:1 http://archive.ubuntu.com/ubuntu bionic/main amd64 fontconfig amd64 2.12.6-0ubuntu2 [169 kB]\n",
            "Get:2 http://archive.ubuntu.com/ubuntu bionic/universe amd64 libann0 amd64 1.1.2+doc-6 [24.8 kB]\n",
            "Get:3 http://archive.ubuntu.com/ubuntu bionic/universe amd64 libcdt5 amd64 2.40.1-2 [19.6 kB]\n",
            "Get:4 http://archive.ubuntu.com/ubuntu bionic/universe amd64 libcgraph6 amd64 2.40.1-2 [40.8 kB]\n",
            "Get:5 http://archive.ubuntu.com/ubuntu bionic/main amd64 libjbig0 amd64 2.1-3.1build1 [26.7 kB]\n",
            "Get:6 http://archive.ubuntu.com/ubuntu bionic/main amd64 libtiff5 amd64 4.0.9-5 [152 kB]\n",
            "Get:7 http://archive.ubuntu.com/ubuntu bionic/main amd64 libwebp6 amd64 0.6.1-2 [185 kB]\n",
            "Get:8 http://archive.ubuntu.com/ubuntu bionic/main amd64 libxpm4 amd64 1:3.5.12-1 [34.0 kB]\n",
            "Get:9 http://archive.ubuntu.com/ubuntu bionic-updates/main amd64 libgd3 amd64 2.2.5-4ubuntu0.2 [119 kB]\n",
            "Get:10 http://archive.ubuntu.com/ubuntu bionic/universe amd64 libgts-0.7-5 amd64 0.7.6+darcs121130-4 [150 kB]\n",
            "Get:11 http://archive.ubuntu.com/ubuntu bionic/main amd64 libpixman-1-0 amd64 0.34.0-2 [229 kB]\n",
            "Get:12 http://archive.ubuntu.com/ubuntu bionic/main amd64 libxcb-render0 amd64 1.13-1 [14.7 kB]\n",
            "Get:13 http://archive.ubuntu.com/ubuntu bionic/main amd64 libxcb-shm0 amd64 1.13-1 [5,572 B]\n",
            "Get:14 http://archive.ubuntu.com/ubuntu bionic/main amd64 libcairo2 amd64 1.15.10-2 [580 kB]\n",
            "Get:15 http://archive.ubuntu.com/ubuntu bionic/main amd64 libltdl7 amd64 2.4.6-2 [38.8 kB]\n",
            "Get:16 http://archive.ubuntu.com/ubuntu bionic/main amd64 libthai-data all 0.1.27-2 [133 kB]\n",
            "Get:17 http://archive.ubuntu.com/ubuntu bionic/main amd64 libdatrie1 amd64 0.2.10-7 [17.8 kB]\n",
            "Get:18 http://archive.ubuntu.com/ubuntu bionic/main amd64 libthai0 amd64 0.1.27-2 [18.0 kB]\n",
            "Get:19 http://archive.ubuntu.com/ubuntu bionic-updates/main amd64 libpango-1.0-0 amd64 1.40.14-1ubuntu0.1 [153 kB]\n",
            "Get:20 http://archive.ubuntu.com/ubuntu bionic-updates/main amd64 libpangoft2-1.0-0 amd64 1.40.14-1ubuntu0.1 [33.2 kB]\n",
            "Get:21 http://archive.ubuntu.com/ubuntu bionic-updates/main amd64 libpangocairo-1.0-0 amd64 1.40.14-1ubuntu0.1 [20.8 kB]\n",
            "Get:22 http://archive.ubuntu.com/ubuntu bionic/universe amd64 libpathplan4 amd64 2.40.1-2 [22.6 kB]\n",
            "Get:23 http://archive.ubuntu.com/ubuntu bionic/universe amd64 libgvc6 amd64 2.40.1-2 [601 kB]\n",
            "Get:24 http://archive.ubuntu.com/ubuntu bionic/universe amd64 libgvpr2 amd64 2.40.1-2 [169 kB]\n",
            "Get:25 http://archive.ubuntu.com/ubuntu bionic/universe amd64 liblab-gamut1 amd64 2.40.1-2 [178 kB]\n",
            "Get:26 http://archive.ubuntu.com/ubuntu bionic/main amd64 libxt6 amd64 1:1.1.5-1 [160 kB]\n",
            "Get:27 http://archive.ubuntu.com/ubuntu bionic/main amd64 libxmu6 amd64 2:1.1.2-2 [46.0 kB]\n",
            "Get:28 http://archive.ubuntu.com/ubuntu bionic/main amd64 libxaw7 amd64 2:1.0.13-1 [173 kB]\n",
            "Get:29 http://archive.ubuntu.com/ubuntu bionic/universe amd64 graphviz amd64 2.40.1-2 [601 kB]\n",
            "Get:30 http://archive.ubuntu.com/ubuntu bionic/universe amd64 libgts-bin amd64 0.7.6+darcs121130-4 [41.3 kB]\n",
            "Fetched 4,154 kB in 3s (1,214 kB/s)\n",
            "Selecting previously unselected package fontconfig.\n",
            "(Reading database ... 21065 files and directories currently installed.)\n",
            "Preparing to unpack .../00-fontconfig_2.12.6-0ubuntu2_amd64.deb ...\n",
            "Unpacking fontconfig (2.12.6-0ubuntu2) ...\n",
            "Selecting previously unselected package libann0.\n",
            "Preparing to unpack .../01-libann0_1.1.2+doc-6_amd64.deb ...\n",
            "Unpacking libann0 (1.1.2+doc-6) ...\n",
            "Selecting previously unselected package libcdt5.\n",
            "Preparing to unpack .../02-libcdt5_2.40.1-2_amd64.deb ...\n",
            "Unpacking libcdt5 (2.40.1-2) ...\n",
            "Selecting previously unselected package libcgraph6.\n",
            "Preparing to unpack .../03-libcgraph6_2.40.1-2_amd64.deb ...\n",
            "Unpacking libcgraph6 (2.40.1-2) ...\n",
            "Selecting previously unselected package libjbig0:amd64.\n",
            "Preparing to unpack .../04-libjbig0_2.1-3.1build1_amd64.deb ...\n",
            "Unpacking libjbig0:amd64 (2.1-3.1build1) ...\n",
            "Selecting previously unselected package libtiff5:amd64.\n",
            "Preparing to unpack .../05-libtiff5_4.0.9-5_amd64.deb ...\n",
            "Unpacking libtiff5:amd64 (4.0.9-5) ...\n",
            "Selecting previously unselected package libwebp6:amd64.\n",
            "Preparing to unpack .../06-libwebp6_0.6.1-2_amd64.deb ...\n",
            "Unpacking libwebp6:amd64 (0.6.1-2) ...\n",
            "Selecting previously unselected package libxpm4:amd64.\n",
            "Preparing to unpack .../07-libxpm4_1%3a3.5.12-1_amd64.deb ...\n",
            "Unpacking libxpm4:amd64 (1:3.5.12-1) ...\n",
            "Selecting previously unselected package libgd3:amd64.\n",
            "Preparing to unpack .../08-libgd3_2.2.5-4ubuntu0.2_amd64.deb ...\n",
            "Unpacking libgd3:amd64 (2.2.5-4ubuntu0.2) ...\n",
            "Selecting previously unselected package libgts-0.7-5:amd64.\n",
            "Preparing to unpack .../09-libgts-0.7-5_0.7.6+darcs121130-4_amd64.deb ...\n",
            "Unpacking libgts-0.7-5:amd64 (0.7.6+darcs121130-4) ...\n",
            "Selecting previously unselected package libpixman-1-0:amd64.\n",
            "Preparing to unpack .../10-libpixman-1-0_0.34.0-2_amd64.deb ...\n",
            "Unpacking libpixman-1-0:amd64 (0.34.0-2) ...\n",
            "Selecting previously unselected package libxcb-render0:amd64.\n",
            "Preparing to unpack .../11-libxcb-render0_1.13-1_amd64.deb ...\n",
            "Unpacking libxcb-render0:amd64 (1.13-1) ...\n",
            "Selecting previously unselected package libxcb-shm0:amd64.\n",
            "Preparing to unpack .../12-libxcb-shm0_1.13-1_amd64.deb ...\n",
            "Unpacking libxcb-shm0:amd64 (1.13-1) ...\n",
            "Selecting previously unselected package libcairo2:amd64.\n",
            "Preparing to unpack .../13-libcairo2_1.15.10-2_amd64.deb ...\n",
            "Unpacking libcairo2:amd64 (1.15.10-2) ...\n",
            "Selecting previously unselected package libltdl7:amd64.\n",
            "Preparing to unpack .../14-libltdl7_2.4.6-2_amd64.deb ...\n",
            "Unpacking libltdl7:amd64 (2.4.6-2) ...\n",
            "Selecting previously unselected package libthai-data.\n",
            "Preparing to unpack .../15-libthai-data_0.1.27-2_all.deb ...\n",
            "Unpacking libthai-data (0.1.27-2) ...\n",
            "Selecting previously unselected package libdatrie1:amd64.\n",
            "Preparing to unpack .../16-libdatrie1_0.2.10-7_amd64.deb ...\n",
            "Unpacking libdatrie1:amd64 (0.2.10-7) ...\n",
            "Selecting previously unselected package libthai0:amd64.\n",
            "Preparing to unpack .../17-libthai0_0.1.27-2_amd64.deb ...\n",
            "Unpacking libthai0:amd64 (0.1.27-2) ...\n",
            "Selecting previously unselected package libpango-1.0-0:amd64.\n",
            "Preparing to unpack .../18-libpango-1.0-0_1.40.14-1ubuntu0.1_amd64.deb ...\n",
            "Unpacking libpango-1.0-0:amd64 (1.40.14-1ubuntu0.1) ...\n",
            "Selecting previously unselected package libpangoft2-1.0-0:amd64.\n",
            "Preparing to unpack .../19-libpangoft2-1.0-0_1.40.14-1ubuntu0.1_amd64.deb ...\n",
            "Unpacking libpangoft2-1.0-0:amd64 (1.40.14-1ubuntu0.1) ...\n",
            "Selecting previously unselected package libpangocairo-1.0-0:amd64.\n",
            "Preparing to unpack .../20-libpangocairo-1.0-0_1.40.14-1ubuntu0.1_amd64.deb ...\n",
            "Unpacking libpangocairo-1.0-0:amd64 (1.40.14-1ubuntu0.1) ...\n",
            "Selecting previously unselected package libpathplan4.\n",
            "Preparing to unpack .../21-libpathplan4_2.40.1-2_amd64.deb ...\n",
            "Unpacking libpathplan4 (2.40.1-2) ...\n",
            "Selecting previously unselected package libgvc6.\n",
            "Preparing to unpack .../22-libgvc6_2.40.1-2_amd64.deb ...\n",
            "Unpacking libgvc6 (2.40.1-2) ...\n",
            "Selecting previously unselected package libgvpr2.\n",
            "Preparing to unpack .../23-libgvpr2_2.40.1-2_amd64.deb ...\n",
            "Unpacking libgvpr2 (2.40.1-2) ...\n",
            "Selecting previously unselected package liblab-gamut1.\n",
            "Preparing to unpack .../24-liblab-gamut1_2.40.1-2_amd64.deb ...\n",
            "Unpacking liblab-gamut1 (2.40.1-2) ...\n",
            "Selecting previously unselected package libxt6:amd64.\n",
            "Preparing to unpack .../25-libxt6_1%3a1.1.5-1_amd64.deb ...\n",
            "Unpacking libxt6:amd64 (1:1.1.5-1) ...\n",
            "Selecting previously unselected package libxmu6:amd64.\n",
            "Preparing to unpack .../26-libxmu6_2%3a1.1.2-2_amd64.deb ...\n",
            "Unpacking libxmu6:amd64 (2:1.1.2-2) ...\n",
            "Selecting previously unselected package libxaw7:amd64.\n",
            "Preparing to unpack .../27-libxaw7_2%3a1.0.13-1_amd64.deb ...\n",
            "Unpacking libxaw7:amd64 (2:1.0.13-1) ...\n",
            "Selecting previously unselected package graphviz.\n",
            "Preparing to unpack .../28-graphviz_2.40.1-2_amd64.deb ...\n",
            "Unpacking graphviz (2.40.1-2) ...\n",
            "Selecting previously unselected package libgts-bin.\n",
            "Preparing to unpack .../29-libgts-bin_0.7.6+darcs121130-4_amd64.deb ...\n",
            "Unpacking libgts-bin (0.7.6+darcs121130-4) ...\n",
            "Setting up libgts-0.7-5:amd64 (0.7.6+darcs121130-4) ...\n",
            "Setting up libpathplan4 (2.40.1-2) ...\n",
            "Setting up liblab-gamut1 (2.40.1-2) ...\n",
            "Setting up libxcb-render0:amd64 (1.13-1) ...\n",
            "Setting up libjbig0:amd64 (2.1-3.1build1) ...\n",
            "Setting up libdatrie1:amd64 (0.2.10-7) ...\n",
            "Setting up libtiff5:amd64 (4.0.9-5) ...\n",
            "Setting up libpixman-1-0:amd64 (0.34.0-2) ...\n",
            "Processing triggers for libc-bin (2.27-3ubuntu1) ...\n",
            "Setting up libltdl7:amd64 (2.4.6-2) ...\n",
            "Setting up libann0 (1.1.2+doc-6) ...\n",
            "Setting up libxcb-shm0:amd64 (1.13-1) ...\n",
            "Setting up libxpm4:amd64 (1:3.5.12-1) ...\n",
            "Setting up libxt6:amd64 (1:1.1.5-1) ...\n",
            "Setting up libgts-bin (0.7.6+darcs121130-4) ...\n",
            "Setting up libthai-data (0.1.27-2) ...\n",
            "Setting up libcdt5 (2.40.1-2) ...\n",
            "Setting up fontconfig (2.12.6-0ubuntu2) ...\n",
            "Regenerating fonts cache... done.\n",
            "Setting up libcgraph6 (2.40.1-2) ...\n",
            "Setting up libwebp6:amd64 (0.6.1-2) ...\n",
            "Setting up libcairo2:amd64 (1.15.10-2) ...\n",
            "Setting up libgvpr2 (2.40.1-2) ...\n",
            "Setting up libgd3:amd64 (2.2.5-4ubuntu0.2) ...\n",
            "Setting up libthai0:amd64 (0.1.27-2) ...\n",
            "Setting up libxmu6:amd64 (2:1.1.2-2) ...\n",
            "Setting up libpango-1.0-0:amd64 (1.40.14-1ubuntu0.1) ...\n",
            "Setting up libxaw7:amd64 (2:1.0.13-1) ...\n",
            "Setting up libpangoft2-1.0-0:amd64 (1.40.14-1ubuntu0.1) ...\n",
            "Setting up libpangocairo-1.0-0:amd64 (1.40.14-1ubuntu0.1) ...\n",
            "Setting up libgvc6 (2.40.1-2) ...\n",
            "Setting up graphviz (2.40.1-2) ...\n",
            "Processing triggers for libc-bin (2.27-3ubuntu1) ...\n"
          ],
          "name": "stdout"
        }
      ]
    },
    {
      "metadata": {
        "id": "_0TMSTiV2wvJ",
        "colab_type": "text"
      },
      "cell_type": "markdown",
      "source": [
        "### Keras Libraries and Modules"
      ]
    },
    {
      "metadata": {
        "id": "iGs5kkPvBofe",
        "colab_type": "code",
        "colab": {
          "base_uri": "https://localhost:8080/",
          "height": 35
        },
        "outputId": "64bbc1f4-2a21-4cba-972d-457918c7fc85"
      },
      "cell_type": "code",
      "source": [
        "import keras\n",
        "from keras.datasets import mnist\n",
        "from keras.models import Sequential, Model, load_model\n",
        "from keras.layers import Dense, Dropout, Flatten, Input, Lambda, Concatenate\n",
        "from keras.layers import Conv2D, MaxPooling2D, BatchNormalization\n",
        "from keras.callbacks import LearningRateScheduler\n",
        "from keras import backend as K\n",
        "from IPython.display import SVG\n",
        "from keras.utils.vis_utils import model_to_dot"
      ],
      "execution_count": 0,
      "outputs": [
        {
          "output_type": "stream",
          "text": [
            "Using TensorFlow backend.\n"
          ],
          "name": "stderr"
        }
      ]
    },
    {
      "metadata": {
        "id": "SI6T4P4I20yL",
        "colab_type": "text"
      },
      "cell_type": "markdown",
      "source": [
        "### Import dataset from Keras\n",
        "\n",
        "We create a combined dataset with test and training rows.  We will features in `model.fit` to create a validation dataset later in the exercise.\n",
        "\n",
        "Notice that the digits are 4D tensors.  The first dimension is the \"row\" or sample image index.  The next to dimensions are the spatial dimensions, x/y.  The last dimension is for color channels.  In this case, we have one color channels since the images are black and white."
      ]
    },
    {
      "metadata": {
        "id": "Hh_He4SKBs8w",
        "colab_type": "code",
        "colab": {
          "base_uri": "https://localhost:8080/",
          "height": 69
        },
        "outputId": "5453f16e-253a-4e75-9f3a-f8248e360296"
      },
      "cell_type": "code",
      "source": [
        "(x_train_, y_train_), (x_test_, y_test_) = mnist.load_data()\n",
        "X = np.vstack([x_train_,x_test_])[...,np.newaxis]\n",
        "y_ = np.hstack([y_train_,y_test_])\n",
        "train_ = np.hstack([y_train_*0+1,0*y_test_])\n",
        "label_coder = LabelBinarizer()\n",
        "\n",
        "label_coder.fit(y_)\n",
        "\n",
        "Y = label_coder.transform(y_)\n",
        "X.shape, Y.shape"
      ],
      "execution_count": 0,
      "outputs": [
        {
          "output_type": "stream",
          "text": [
            "Downloading data from https://s3.amazonaws.com/img-datasets/mnist.npz\n",
            "11493376/11490434 [==============================] - 2s 0us/step\n"
          ],
          "name": "stdout"
        },
        {
          "output_type": "execute_result",
          "data": {
            "text/plain": [
              "((70000, 28, 28, 1), (70000, 10))"
            ]
          },
          "metadata": {
            "tags": []
          },
          "execution_count": 4
        }
      ]
    },
    {
      "metadata": {
        "id": "qKJjtUap3c-J",
        "colab_type": "text"
      },
      "cell_type": "markdown",
      "source": [
        "### Plot a random row"
      ]
    },
    {
      "metadata": {
        "id": "wurDYsi2BvUH",
        "colab_type": "code",
        "colab": {
          "base_uri": "https://localhost:8080/",
          "height": 230
        },
        "outputId": "ed126f71-ea90-4ee5-d867-4df4026cc030"
      },
      "cell_type": "code",
      "source": [
        "ind = np.random.choice(range(X.shape[0]))\n",
        "plt.imshow(X[ind,...,0])"
      ],
      "execution_count": 0,
      "outputs": [
        {
          "output_type": "execute_result",
          "data": {
            "text/plain": [
              "<matplotlib.image.AxesImage at 0x7f19cdc6be80>"
            ]
          },
          "metadata": {
            "tags": []
          },
          "execution_count": 5
        },
        {
          "output_type": "display_data",
          "data": {
            "image/png": "[encoded data removed]",
            "text/plain": [
              "<matplotlib.figure.Figure at 0x7f1a1ff20a58>"
            ]
          },
          "metadata": {
            "tags": []
          }
        }
      ]
    },
    {
      "metadata": {
        "id": "TA7yEs1B38z1",
        "colab_type": "text"
      },
      "cell_type": "markdown",
      "source": [
        "### Check the histogram of labels"
      ]
    },
    {
      "metadata": {
        "id": "eeUcQoWXBw-h",
        "colab_type": "code",
        "colab": {
          "base_uri": "https://localhost:8080/",
          "height": 211
        },
        "outputId": "26c9608b-f264-47b1-c4bc-57ab86cbab62"
      },
      "cell_type": "code",
      "source": [
        "plt.hist(y_);"
      ],
      "execution_count": 0,
      "outputs": [
        {
          "output_type": "display_data",
          "data": {
            "image/png": "[encoded data removed]",
            "text/plain": [
              "<matplotlib.figure.Figure at 0x7f1a203e5128>"
            ]
          },
          "metadata": {
            "tags": []
          }
        }
      ]
    },
    {
      "metadata": {
        "id": "psqTTz774GC3",
        "colab_type": "text"
      },
      "cell_type": "markdown",
      "source": [
        "# Simple Fully Connected Model\n",
        "\n",
        "We start with a three-layer fully-connected ANN. \n",
        "\n",
        "We have a categorical classification problem which means that our network should classify the image as only of the ten classes (0-9).  Because of this, we need the output activation function to be `softmax`, which approximates a probability distribution where the output layer outputs all sum to 1."
      ]
    },
    {
      "metadata": {
        "id": "dQNDQxYeB9No",
        "colab_type": "code",
        "colab": {
          "base_uri": "https://localhost:8080/",
          "height": 312
        },
        "outputId": "46bdb805-1c94-4c23-9427-a4b1445db4ef"
      },
      "cell_type": "code",
      "source": [
        "input_ = Input((28,28,1))\n",
        "\n",
        "x = input_\n",
        "x = Flatten()(x)\n",
        "x = Dense(100,activation='relu')(x)\n",
        "x = Dense(100,activation='relu')(x)\n",
        "\n",
        "\n",
        "x = Dense(10, activation='softmax')(x)\n",
        "\n",
        "\n",
        "\n",
        "model = Model(input_, x)\n",
        "\n",
        "model.summary()"
      ],
      "execution_count": 0,
      "outputs": [
        {
          "output_type": "stream",
          "text": [
            "_________________________________________________________________\n",
            "Layer (type)                 Output Shape              Param #   \n",
            "=================================================================\n",
            "input_1 (InputLayer)         (None, 28, 28, 1)         0         \n",
            "_________________________________________________________________\n",
            "flatten_1 (Flatten)          (None, 784)               0         \n",
            "_________________________________________________________________\n",
            "dense_1 (Dense)              (None, 100)               78500     \n",
            "_________________________________________________________________\n",
            "dense_2 (Dense)              (None, 100)               10100     \n",
            "_________________________________________________________________\n",
            "dense_3 (Dense)              (None, 10)                1010      \n",
            "=================================================================\n",
            "Total params: 89,610\n",
            "Trainable params: 89,610\n",
            "Non-trainable params: 0\n",
            "_________________________________________________________________\n"
          ],
          "name": "stdout"
        }
      ]
    },
    {
      "metadata": {
        "id": "cHbGkOFW441J",
        "colab_type": "text"
      },
      "cell_type": "markdown",
      "source": [
        "### Check the model weights\n",
        "\n",
        "The model is initialized with random weights and can be executed before training.  Let's use Keras to examine the model weights.\n",
        "\n",
        "#### Model layers as a list"
      ]
    },
    {
      "metadata": {
        "id": "wqO1rBJ55HE6",
        "colab_type": "code",
        "colab": {
          "base_uri": "https://localhost:8080/",
          "height": 104
        },
        "outputId": "59567eea-312c-4948-e8ac-8c1e10d92678"
      },
      "cell_type": "code",
      "source": [
        "model.layers"
      ],
      "execution_count": 0,
      "outputs": [
        {
          "output_type": "execute_result",
          "data": {
            "text/plain": [
              "[<keras.engine.topology.InputLayer at 0x7f19cb3ba5f8>,\n",
              " <keras.layers.core.Flatten at 0x7f19cb3d6be0>,\n",
              " <keras.layers.core.Dense at 0x7f19cb3ba5c0>,\n",
              " <keras.layers.core.Dense at 0x7f19cb3d6a90>,\n",
              " <keras.layers.core.Dense at 0x7f19cb34a4e0>]"
            ]
          },
          "metadata": {
            "tags": []
          },
          "execution_count": 8
        }
      ]
    },
    {
      "metadata": {
        "id": "Cyw4jIOn5nSQ",
        "colab_type": "text"
      },
      "cell_type": "markdown",
      "source": [
        "#### Model weights in the last layer\n",
        "\n",
        "Each layer has a NxM mapping matrix of weights and M bias values."
      ]
    },
    {
      "metadata": {
        "id": "r5URZxHO5MXZ",
        "colab_type": "code",
        "colab": {
          "base_uri": "https://localhost:8080/",
          "height": 52
        },
        "outputId": "4a575b50-1b91-41ac-e7ad-f77ef042f282"
      },
      "cell_type": "code",
      "source": [
        "model.layers[-1].weights"
      ],
      "execution_count": 0,
      "outputs": [
        {
          "output_type": "execute_result",
          "data": {
            "text/plain": [
              "[<tf.Variable 'dense_3/kernel:0' shape=(100, 10) dtype=float32_ref>,\n",
              " <tf.Variable 'dense_3/bias:0' shape=(10,) dtype=float32_ref>]"
            ]
          },
          "metadata": {
            "tags": []
          },
          "execution_count": 9
        }
      ]
    },
    {
      "metadata": {
        "id": "z59-oQ8750Z4",
        "colab_type": "text"
      },
      "cell_type": "markdown",
      "source": [
        "#### Use `K.eval` to view weight values"
      ]
    },
    {
      "metadata": {
        "id": "8Mk6pa415hLY",
        "colab_type": "code",
        "colab": {}
      },
      "cell_type": "code",
      "source": [
        "# K.eval(model.layers[-1].weights[0])"
      ],
      "execution_count": 0,
      "outputs": []
    },
    {
      "metadata": {
        "id": "osC5VmoA57WB",
        "colab_type": "text"
      },
      "cell_type": "markdown",
      "source": [
        "#### Plot weights"
      ]
    },
    {
      "metadata": {
        "id": "eAT1gtpN5RPr",
        "colab_type": "code",
        "colab": {
          "base_uri": "https://localhost:8080/",
          "height": 232
        },
        "outputId": "8e630fb4-a8c2-4790-aac2-8448bd789a81"
      },
      "cell_type": "code",
      "source": [
        "plt.imshow(K.eval(model.layers[-1].weights[0]),aspect='auto')"
      ],
      "execution_count": 0,
      "outputs": [
        {
          "output_type": "execute_result",
          "data": {
            "text/plain": [
              "<matplotlib.image.AxesImage at 0x7f19c5aa2e10>"
            ]
          },
          "metadata": {
            "tags": []
          },
          "execution_count": 11
        },
        {
          "output_type": "display_data",
          "data": {
            "image/png": "[encoded data removed]",
            "text/plain": [
              "<matplotlib.figure.Figure at 0x7f19cab36c50>"
            ]
          },
          "metadata": {
            "tags": []
          }
        }
      ]
    },
    {
      "metadata": {
        "id": "uuevEaSG6AHY",
        "colab_type": "text"
      },
      "cell_type": "markdown",
      "source": [
        "## We can also run the untrained model on the first two inputs"
      ]
    },
    {
      "metadata": {
        "id": "Aaj-WfynIhaM",
        "colab_type": "code",
        "colab": {
          "base_uri": "https://localhost:8080/",
          "height": 425
        },
        "outputId": "2f8e26fe-ff14-4ecd-9b19-ca4a0d7fa1bb"
      },
      "cell_type": "code",
      "source": [
        "plt.imshow(X[0,...,0])\n",
        "plt.show()\n",
        "plt.imshow(X[1,...,0])\n",
        "activations = model.predict(X[:2,...])\n",
        "\n",
        "activations.shape"
      ],
      "execution_count": 0,
      "outputs": [
        {
          "output_type": "display_data",
          "data": {
            "image/png": "[encoded data removed]",
            "text/plain": [
              "<matplotlib.figure.Figure at 0x7f19c5ab4710>"
            ]
          },
          "metadata": {
            "tags": []
          }
        },
        {
          "output_type": "execute_result",
          "data": {
            "text/plain": [
              "(2, 10)"
            ]
          },
          "metadata": {
            "tags": []
          },
          "execution_count": 12
        },
        {
          "output_type": "display_data",
          "data": {
            "image/png": "[encoded data removed]",
            "text/plain": [
              "<matplotlib.figure.Figure at 0x7f19c5a2fef0>"
            ]
          },
          "metadata": {
            "tags": []
          }
        }
      ]
    },
    {
      "metadata": {
        "id": "p8a3TvCn7SAl",
        "colab_type": "code",
        "colab": {
          "base_uri": "https://localhost:8080/",
          "height": 246
        },
        "outputId": "c510a336-1c86-4c39-b0bc-70e16394117a"
      },
      "cell_type": "code",
      "source": [
        "\n",
        "plt.plot(activations.T,'s')"
      ],
      "execution_count": 0,
      "outputs": [
        {
          "output_type": "execute_result",
          "data": {
            "text/plain": [
              "[<matplotlib.lines.Line2D at 0x7f19c5944630>,\n",
              " <matplotlib.lines.Line2D at 0x7f19c5944898>]"
            ]
          },
          "metadata": {
            "tags": []
          },
          "execution_count": 13
        },
        {
          "output_type": "display_data",
          "data": {
            "image/png": "[encoded data removed]",
            "text/plain": [
              "<matplotlib.figure.Figure at 0x7f1a203e5710>"
            ]
          },
          "metadata": {
            "tags": []
          }
        }
      ]
    },
    {
      "metadata": {
        "id": "tuHA7RKe7o7p",
        "colab_type": "text"
      },
      "cell_type": "markdown",
      "source": [
        "## Train It!"
      ]
    },
    {
      "metadata": {
        "id": "RBQmnazU7rDg",
        "colab_type": "code",
        "colab": {
          "base_uri": "https://localhost:8080/",
          "height": 381
        },
        "outputId": "d7631756-0245-4cfa-c49e-4cb0e2be0597"
      },
      "cell_type": "code",
      "source": [
        "model.compile(loss='categorical_crossentropy', optimizer=keras.optimizers.Adam(lr=.001),metrics=['accuracy'])\n",
        "model.fit(X,Y, batch_size=400, epochs=10)"
      ],
      "execution_count": 0,
      "outputs": [
        {
          "output_type": "stream",
          "text": [
            "Epoch 1/10\n",
            "70000/70000 [==============================] - 1s 21us/step - loss: 7.5535 - acc: 0.5222\n",
            "Epoch 2/10\n",
            "70000/70000 [==============================] - 1s 18us/step - loss: 5.3359 - acc: 0.6631\n",
            "Epoch 3/10\n",
            "70000/70000 [==============================] - 1s 17us/step - loss: 3.8167 - acc: 0.7564\n",
            "Epoch 4/10\n",
            "70000/70000 [==============================] - 1s 17us/step - loss: 2.4110 - acc: 0.8442\n",
            "Epoch 5/10\n",
            "70000/70000 [==============================] - 1s 17us/step - loss: 2.2745 - acc: 0.8536\n",
            "Epoch 6/10\n",
            "70000/70000 [==============================] - 1s 18us/step - loss: 2.1939 - acc: 0.8588\n",
            "Epoch 7/10\n",
            "70000/70000 [==============================] - 1s 17us/step - loss: 2.1891 - acc: 0.8600\n",
            "Epoch 8/10\n",
            "70000/70000 [==============================] - 1s 18us/step - loss: 2.1414 - acc: 0.8631\n",
            "Epoch 9/10\n",
            "70000/70000 [==============================] - 1s 18us/step - loss: 2.0934 - acc: 0.8665\n",
            "Epoch 10/10\n",
            "70000/70000 [==============================] - 1s 17us/step - loss: 2.0803 - acc: 0.8676\n"
          ],
          "name": "stdout"
        },
        {
          "output_type": "execute_result",
          "data": {
            "text/plain": [
              "<keras.callbacks.History at 0x7f19c598a080>"
            ]
          },
          "metadata": {
            "tags": []
          },
          "execution_count": 14
        }
      ]
    },
    {
      "metadata": {
        "id": "1fMl77n3761X",
        "colab_type": "text"
      },
      "cell_type": "markdown",
      "source": [
        "### Check Trained model activations"
      ]
    },
    {
      "metadata": {
        "id": "iH0_eidb7-BE",
        "colab_type": "code",
        "colab": {
          "base_uri": "https://localhost:8080/",
          "height": 831
        },
        "outputId": "3f3b4ed9-808b-4f0d-a62d-c45e2aaf2daa"
      },
      "cell_type": "code",
      "source": [
        "activations = model.predict(X, verbose=1)\n",
        "plt.imshow(X[0,...,0])\n",
        "plt.show()\n",
        "plt.plot(activations[0,:],'s')\n",
        "plt.show()\n",
        "plt.imshow(X[1,...,0])\n",
        "plt.show()\n",
        "plt.plot(activations[1,:],'s')"
      ],
      "execution_count": 0,
      "outputs": [
        {
          "output_type": "stream",
          "text": [
            "70000/70000 [==============================] - 3s 47us/step\n"
          ],
          "name": "stdout"
        },
        {
          "output_type": "display_data",
          "data": {
            "image/png": "[encoded data removed]",
            "text/plain": [
              "<matplotlib.figure.Figure at 0x7f19c5673278>"
            ]
          },
          "metadata": {
            "tags": []
          }
        },
        {
          "output_type": "display_data",
          "data": {
            "image/png": "[encoded data removed]",
            "text/plain": [
              "<matplotlib.figure.Figure at 0x7f19c55fc518>"
            ]
          },
          "metadata": {
            "tags": []
          }
        },
        {
          "output_type": "display_data",
          "data": {
            "image/png": "[encoded data removed]",
            "text/plain": [
              "<matplotlib.figure.Figure at 0x7f19c55bb550>"
            ]
          },
          "metadata": {
            "tags": []
          }
        },
        {
          "output_type": "execute_result",
          "data": {
            "text/plain": [
              "[<matplotlib.lines.Line2D at 0x7f19c55690b8>]"
            ]
          },
          "metadata": {
            "tags": []
          },
          "execution_count": 15
        },
        {
          "output_type": "display_data",
          "data": {
            "image/png": "[encoded data removed]",
            "text/plain": [
              "<matplotlib.figure.Figure at 0x7f19c56344a8>"
            ]
          },
          "metadata": {
            "tags": []
          }
        }
      ]
    },
    {
      "metadata": {
        "id": "ZdzEikItC3j3",
        "colab_type": "code",
        "colab": {
          "base_uri": "https://localhost:8080/",
          "height": 743
        },
        "outputId": "5d5344b9-fc93-4ff1-c257-968be0e708c4"
      },
      "cell_type": "code",
      "source": [
        "from sklearn.metrics import confusion_matrix\n",
        "import itertools\n",
        "def plot_confusion_matrix(y_test, y_pred, classes,\n",
        "                          normalize=False,\n",
        "                          title='Confusion matrix',\n",
        "                          cmap=plt.cm.Blues):\n",
        "    \"\"\"\n",
        "    This function prints and plots the confusion matrix.\n",
        "    Normalization can be applied by setting `normalize=True`.\n",
        "    \"\"\"\n",
        "    plt.rcParams['figure.figsize'] = (10.0, 10.0)\n",
        "    cm = confusion_matrix(y_test, y_pred,)\n",
        "    np.set_printoptions(precision=2)\n",
        "    if normalize:\n",
        "        cm = cm.astype('float') / cm.sum(axis=1)[:, np.newaxis]\n",
        "        print(\"Normalized confusion matrix\")\n",
        "    else:\n",
        "        print('Confusion matrix, without normalization')\n",
        "\n",
        "    # print(cm)\n",
        "\n",
        "    plt.imshow(cm, interpolation='nearest', cmap=cmap)\n",
        "    plt.title(title)\n",
        "    plt.colorbar()\n",
        "    tick_marks = np.arange(len(classes))\n",
        "    plt.xticks(tick_marks, classes, rotation=45)\n",
        "    plt.yticks(tick_marks, classes)\n",
        "\n",
        "    fmt = '.2f' if normalize else 'd'\n",
        "    thresh = cm.max() / 2.\n",
        "    for i, j in itertools.product(range(cm.shape[0]), range(cm.shape[1])):\n",
        "        plt.text(j, i, format(cm[i, j], fmt),\n",
        "                 horizontalalignment=\"center\",\n",
        "                 color=\"white\" if cm[i, j] > thresh else \"black\")\n",
        "\n",
        "    plt.tight_layout()\n",
        "    plt.ylabel('True label')\n",
        "    plt.xlabel('Predicted label')\n",
        "    \n",
        "    plt.rcParams['figure.figsize'] = (15.0, 3.0)\n",
        "\n",
        "\n",
        "plot_confusion_matrix(y_, label_coder.inverse_transform(activations), label_coder.classes_);"
      ],
      "execution_count": 0,
      "outputs": [
        {
          "output_type": "stream",
          "text": [
            "Confusion matrix, without normalization\n"
          ],
          "name": "stdout"
        },
        {
          "output_type": "display_data",
          "data": {
            "image/png": "[encoded data removed]",
            "text/plain": [
              "<matplotlib.figure.Figure at 0x7f19c55221d0>"
            ]
          },
          "metadata": {
            "tags": []
          }
        }
      ]
    },
    {
      "metadata": {
        "id": "e_hLZpgM8vz5",
        "colab_type": "text"
      },
      "cell_type": "markdown",
      "source": [
        "# CNN Model\n",
        "\n",
        "65% accurcay is impressive for such a simple model, but it isn't really usable.  In order to make the next level of improvement, we need to use convolutional layers."
      ]
    },
    {
      "metadata": {
        "id": "PPV195REIJAP",
        "colab_type": "code",
        "colab": {
          "base_uri": "https://localhost:8080/",
          "height": 416
        },
        "outputId": "661d2a57-cffe-4f61-dfe5-399a41c8884b"
      },
      "cell_type": "code",
      "source": [
        "input_ = Input((28,28,1))\n",
        "\n",
        "x = Conv2D(32, (3,3), activation='relu')(input_)\n",
        "x = Conv2D(64, (3,3), activation='relu')(x)\n",
        "x = MaxPooling2D(pool_size=(2,2))(x)\n",
        "\n",
        "x = Flatten()(x)\n",
        "x = BatchNormalization()(x)\n",
        "x = Dense(100,activation='relu')(x)\n",
        "\n",
        "x = Dense(10, activation='softmax')(x)\n",
        "\n",
        "cnn_model = Model(input_, x)\n",
        "cnn_original_weights = cnn_model.get_weights()\n",
        "cnn_model.summary()"
      ],
      "execution_count": 0,
      "outputs": [
        {
          "output_type": "stream",
          "text": [
            "_________________________________________________________________\n",
            "Layer (type)                 Output Shape              Param #   \n",
            "=================================================================\n",
            "input_2 (InputLayer)         (None, 28, 28, 1)         0         \n",
            "_________________________________________________________________\n",
            "conv2d_1 (Conv2D)            (None, 26, 26, 32)        320       \n",
            "_________________________________________________________________\n",
            "conv2d_2 (Conv2D)            (None, 24, 24, 64)        18496     \n",
            "_________________________________________________________________\n",
            "max_pooling2d_1 (MaxPooling2 (None, 12, 12, 64)        0         \n",
            "_________________________________________________________________\n",
            "flatten_2 (Flatten)          (None, 9216)              0         \n",
            "_________________________________________________________________\n",
            "batch_normalization_1 (Batch (None, 9216)              36864     \n",
            "_________________________________________________________________\n",
            "dense_4 (Dense)              (None, 100)               921700    \n",
            "_________________________________________________________________\n",
            "dense_5 (Dense)              (None, 10)                1010      \n",
            "=================================================================\n",
            "Total params: 978,390\n",
            "Trainable params: 959,958\n",
            "Non-trainable params: 18,432\n",
            "_________________________________________________________________\n"
          ],
          "name": "stdout"
        }
      ]
    },
    {
      "metadata": {
        "id": "8vgwrtHE9bnj",
        "colab_type": "text"
      },
      "cell_type": "markdown",
      "source": [
        "### Examine the convolution kernel values\n",
        "\n",
        "Just as we did with the fully connected weight matrix, we can extract and visualize the weight matrix for the convolution kernals."
      ]
    },
    {
      "metadata": {
        "id": "OepMwEd0I47L",
        "colab_type": "code",
        "colab": {
          "base_uri": "https://localhost:8080/",
          "height": 35
        },
        "outputId": "1e8417fd-b195-4040-8680-6a523b5dbfe0"
      },
      "cell_type": "code",
      "source": [
        "kerns = K.eval(cnn_model.layers[1].weights[0])\n",
        "kerns.shape"
      ],
      "execution_count": 0,
      "outputs": [
        {
          "output_type": "execute_result",
          "data": {
            "text/plain": [
              "(3, 3, 1, 32)"
            ]
          },
          "metadata": {
            "tags": []
          },
          "execution_count": 18
        }
      ]
    },
    {
      "metadata": {
        "id": "hWnCcF19J-wW",
        "colab_type": "code",
        "colab": {
          "base_uri": "https://localhost:8080/",
          "height": 863
        },
        "outputId": "7ec1d5a6-182c-413c-d730-a6d56c6eb133"
      },
      "cell_type": "code",
      "source": [
        "plt.rcParams['figure.figsize'] = (15.0, 15.0)\n",
        "nrow = 8; ncol = 4;\n",
        "fig, axs = plt.subplots(nrows=nrow, ncols=ncol)\n",
        "\n",
        "k = 0\n",
        "for ax in axs.reshape(-1): \n",
        "    ax.imshow(kerns[:,:,0,k])\n",
        "    k += 1"
      ],
      "execution_count": 0,
      "outputs": [
        {
          "output_type": "display_data",
          "data": {
            "image/png": "[encoded data removed]",
            "text/plain": [
              "<matplotlib.figure.Figure at 0x7f19c55f9e48>"
            ]
          },
          "metadata": {
            "tags": []
          }
        }
      ]
    },
    {
      "metadata": {
        "id": "dh0U1ToU9zpp",
        "colab_type": "text"
      },
      "cell_type": "markdown",
      "source": [
        "### Plot Layer Flow\n",
        "\n",
        "We can also plot the layer flow as a SVG"
      ]
    },
    {
      "metadata": {
        "id": "ubLjKRswCSl-",
        "colab_type": "code",
        "colab": {
          "base_uri": "https://localhost:8080/",
          "height": 537
        },
        "outputId": "58b76126-b036-4b6a-ac5a-4f91c046e4f1"
      },
      "cell_type": "code",
      "source": [
        "SVG(model_to_dot(model,True,True).create(prog='dot', format='svg'))"
      ],
      "execution_count": 0,
      "outputs": [
        {
          "output_type": "execute_result",
          "data": {
            "text/plain": [
              "<IPython.core.display.SVG object>"
            ],
            "image/svg+xml": "<svg height=\"387pt\" viewBox=\"0.00 0.00 316.00 387.00\" width=\"316pt\" xmlns=\"http://www.w3.org/2000/svg\" xmlns:xlink=\"http://www.w3.org/1999/xlink\">\n<g class=\"graph\" id=\"graph0\" transform=\"scale(1 1) rotate(0) translate(4 383)\">\n<title>G</title>\n<polygon fill=\"#ffffff\" points=\"-4,4 -4,-383 312,-383 312,4 -4,4\" stroke=\"transparent\"/>\n<!-- 139748760593912 -->\n<g class=\"node\" id=\"node1\">\n<title>139748760593912</title>\n<polygon fill=\"none\" points=\"0,-332.5 0,-378.5 308,-378.5 308,-332.5 0,-332.5\" stroke=\"#000000\"/>\n<text fill=\"#000000\" font-family=\"Times,serif\" font-size=\"14.00\" text-anchor=\"middle\" x=\"66.5\" y=\"-351.8\">input_1: InputLayer</text>\n<polyline fill=\"none\" points=\"133,-332.5 133,-378.5 \" stroke=\"#000000\"/>\n<text fill=\"#000000\" font-family=\"Times,serif\" font-size=\"14.00\" text-anchor=\"middle\" x=\"162\" y=\"-363.3\">input:</text>\n<polyline fill=\"none\" points=\"133,-355.5 191,-355.5 \" stroke=\"#000000\"/>\n<text fill=\"#000000\" font-family=\"Times,serif\" font-size=\"14.00\" text-anchor=\"middle\" x=\"162\" y=\"-340.3\">output:</text>\n<polyline fill=\"none\" points=\"191,-332.5 191,-378.5 \" stroke=\"#000000\"/>\n<text fill=\"#000000\" font-family=\"Times,serif\" font-size=\"14.00\" text-anchor=\"middle\" x=\"249.5\" y=\"-363.3\">(None, 28, 28, 1)</text>\n<polyline fill=\"none\" points=\"191,-355.5 308,-355.5 \" stroke=\"#000000\"/>\n<text fill=\"#000000\" font-family=\"Times,serif\" font-size=\"14.00\" text-anchor=\"middle\" x=\"249.5\" y=\"-340.3\">(None, 28, 28, 1)</text>\n</g>\n<!-- 139748760710112 -->\n<g class=\"node\" id=\"node2\">\n<title>139748760710112</title>\n<polygon fill=\"none\" points=\"10,-249.5 10,-295.5 298,-295.5 298,-249.5 10,-249.5\" stroke=\"#000000\"/>\n<text fill=\"#000000\" font-family=\"Times,serif\" font-size=\"14.00\" text-anchor=\"middle\" x=\"66.5\" y=\"-268.8\">flatten_1: Flatten</text>\n<polyline fill=\"none\" points=\"123,-249.5 123,-295.5 \" stroke=\"#000000\"/>\n<text fill=\"#000000\" font-family=\"Times,serif\" font-size=\"14.00\" text-anchor=\"middle\" x=\"152\" y=\"-280.3\">input:</text>\n<polyline fill=\"none\" points=\"123,-272.5 181,-272.5 \" stroke=\"#000000\"/>\n<text fill=\"#000000\" font-family=\"Times,serif\" font-size=\"14.00\" text-anchor=\"middle\" x=\"152\" y=\"-257.3\">output:</text>\n<polyline fill=\"none\" points=\"181,-249.5 181,-295.5 \" stroke=\"#000000\"/>\n<text fill=\"#000000\" font-family=\"Times,serif\" font-size=\"14.00\" text-anchor=\"middle\" x=\"239.5\" y=\"-280.3\">(None, 28, 28, 1)</text>\n<polyline fill=\"none\" points=\"181,-272.5 298,-272.5 \" stroke=\"#000000\"/>\n<text fill=\"#000000\" font-family=\"Times,serif\" font-size=\"14.00\" text-anchor=\"middle\" x=\"239.5\" y=\"-257.3\">(None, 784)</text>\n</g>\n<!-- 139748760593912&#45;&gt;139748760710112 -->\n<g class=\"edge\" id=\"edge1\">\n<title>139748760593912-&gt;139748760710112</title>\n<path d=\"M154,-332.3799C154,-324.1745 154,-314.7679 154,-305.8786\" fill=\"none\" stroke=\"#000000\"/>\n<polygon fill=\"#000000\" points=\"157.5001,-305.784 154,-295.784 150.5001,-305.784 157.5001,-305.784\" stroke=\"#000000\"/>\n</g>\n<!-- 139748760593856 -->\n<g class=\"node\" id=\"node3\">\n<title>139748760593856</title>\n<polygon fill=\"none\" points=\"28,-166.5 28,-212.5 280,-212.5 280,-166.5 28,-166.5\" stroke=\"#000000\"/>\n<text fill=\"#000000\" font-family=\"Times,serif\" font-size=\"14.00\" text-anchor=\"middle\" x=\"81.5\" y=\"-185.8\">dense_1: Dense</text>\n<polyline fill=\"none\" points=\"135,-166.5 135,-212.5 \" stroke=\"#000000\"/>\n<text fill=\"#000000\" font-family=\"Times,serif\" font-size=\"14.00\" text-anchor=\"middle\" x=\"164\" y=\"-197.3\">input:</text>\n<polyline fill=\"none\" points=\"135,-189.5 193,-189.5 \" stroke=\"#000000\"/>\n<text fill=\"#000000\" font-family=\"Times,serif\" font-size=\"14.00\" text-anchor=\"middle\" x=\"164\" y=\"-174.3\">output:</text>\n<polyline fill=\"none\" points=\"193,-166.5 193,-212.5 \" stroke=\"#000000\"/>\n<text fill=\"#000000\" font-family=\"Times,serif\" font-size=\"14.00\" text-anchor=\"middle\" x=\"236.5\" y=\"-197.3\">(None, 784)</text>\n<polyline fill=\"none\" points=\"193,-189.5 280,-189.5 \" stroke=\"#000000\"/>\n<text fill=\"#000000\" font-family=\"Times,serif\" font-size=\"14.00\" text-anchor=\"middle\" x=\"236.5\" y=\"-174.3\">(None, 100)</text>\n</g>\n<!-- 139748760710112&#45;&gt;139748760593856 -->\n<g class=\"edge\" id=\"edge2\">\n<title>139748760710112-&gt;139748760593856</title>\n<path d=\"M154,-249.3799C154,-241.1745 154,-231.7679 154,-222.8786\" fill=\"none\" stroke=\"#000000\"/>\n<polygon fill=\"#000000\" points=\"157.5001,-222.784 154,-212.784 150.5001,-222.784 157.5001,-222.784\" stroke=\"#000000\"/>\n</g>\n<!-- 139748760709776 -->\n<g class=\"node\" id=\"node4\">\n<title>139748760709776</title>\n<polygon fill=\"none\" points=\"28,-83.5 28,-129.5 280,-129.5 280,-83.5 28,-83.5\" stroke=\"#000000\"/>\n<text fill=\"#000000\" font-family=\"Times,serif\" font-size=\"14.00\" text-anchor=\"middle\" x=\"81.5\" y=\"-102.8\">dense_2: Dense</text>\n<polyline fill=\"none\" points=\"135,-83.5 135,-129.5 \" stroke=\"#000000\"/>\n<text fill=\"#000000\" font-family=\"Times,serif\" font-size=\"14.00\" text-anchor=\"middle\" x=\"164\" y=\"-114.3\">input:</text>\n<polyline fill=\"none\" points=\"135,-106.5 193,-106.5 \" stroke=\"#000000\"/>\n<text fill=\"#000000\" font-family=\"Times,serif\" font-size=\"14.00\" text-anchor=\"middle\" x=\"164\" y=\"-91.3\">output:</text>\n<polyline fill=\"none\" points=\"193,-83.5 193,-129.5 \" stroke=\"#000000\"/>\n<text fill=\"#000000\" font-family=\"Times,serif\" font-size=\"14.00\" text-anchor=\"middle\" x=\"236.5\" y=\"-114.3\">(None, 100)</text>\n<polyline fill=\"none\" points=\"193,-106.5 280,-106.5 \" stroke=\"#000000\"/>\n<text fill=\"#000000\" font-family=\"Times,serif\" font-size=\"14.00\" text-anchor=\"middle\" x=\"236.5\" y=\"-91.3\">(None, 100)</text>\n</g>\n<!-- 139748760593856&#45;&gt;139748760709776 -->\n<g class=\"edge\" id=\"edge3\">\n<title>139748760593856-&gt;139748760709776</title>\n<path d=\"M154,-166.3799C154,-158.1745 154,-148.7679 154,-139.8786\" fill=\"none\" stroke=\"#000000\"/>\n<polygon fill=\"#000000\" points=\"157.5001,-139.784 154,-129.784 150.5001,-139.784 157.5001,-139.784\" stroke=\"#000000\"/>\n</g>\n<!-- 139748760134880 -->\n<g class=\"node\" id=\"node5\">\n<title>139748760134880</title>\n<polygon fill=\"none\" points=\"28,-.5 28,-46.5 280,-46.5 280,-.5 28,-.5\" stroke=\"#000000\"/>\n<text fill=\"#000000\" font-family=\"Times,serif\" font-size=\"14.00\" text-anchor=\"middle\" x=\"81.5\" y=\"-19.8\">dense_3: Dense</text>\n<polyline fill=\"none\" points=\"135,-.5 135,-46.5 \" stroke=\"#000000\"/>\n<text fill=\"#000000\" font-family=\"Times,serif\" font-size=\"14.00\" text-anchor=\"middle\" x=\"164\" y=\"-31.3\">input:</text>\n<polyline fill=\"none\" points=\"135,-23.5 193,-23.5 \" stroke=\"#000000\"/>\n<text fill=\"#000000\" font-family=\"Times,serif\" font-size=\"14.00\" text-anchor=\"middle\" x=\"164\" y=\"-8.3\">output:</text>\n<polyline fill=\"none\" points=\"193,-.5 193,-46.5 \" stroke=\"#000000\"/>\n<text fill=\"#000000\" font-family=\"Times,serif\" font-size=\"14.00\" text-anchor=\"middle\" x=\"236.5\" y=\"-31.3\">(None, 100)</text>\n<polyline fill=\"none\" points=\"193,-23.5 280,-23.5 \" stroke=\"#000000\"/>\n<text fill=\"#000000\" font-family=\"Times,serif\" font-size=\"14.00\" text-anchor=\"middle\" x=\"236.5\" y=\"-8.3\">(None, 10)</text>\n</g>\n<!-- 139748760709776&#45;&gt;139748760134880 -->\n<g class=\"edge\" id=\"edge4\">\n<title>139748760709776-&gt;139748760134880</title>\n<path d=\"M154,-83.3799C154,-75.1745 154,-65.7679 154,-56.8786\" fill=\"none\" stroke=\"#000000\"/>\n<polygon fill=\"#000000\" points=\"157.5001,-56.784 154,-46.784 150.5001,-56.784 157.5001,-56.784\" stroke=\"#000000\"/>\n</g>\n</g>\n</svg>"
          },
          "metadata": {
            "tags": []
          },
          "execution_count": 20
        }
      ]
    },
    {
      "metadata": {
        "id": "efb2BhFd9_Dh",
        "colab_type": "text"
      },
      "cell_type": "markdown",
      "source": [
        "## Fit the CNN Model"
      ]
    },
    {
      "metadata": {
        "id": "nqZzXvWWCXKC",
        "colab_type": "code",
        "colab": {
          "base_uri": "https://localhost:8080/",
          "height": 173
        },
        "outputId": "d95091e1-27f4-4cb7-8edc-9c39ab850b7b"
      },
      "cell_type": "code",
      "source": [
        "cnn_model.compile(loss='categorical_crossentropy', \n",
        "                  optimizer=keras.optimizers.Adam(lr=.001),\n",
        "                  metrics=['accuracy'])\n",
        "cnn_model.fit(X,Y, batch_size=400, epochs=4)"
      ],
      "execution_count": 0,
      "outputs": [
        {
          "output_type": "stream",
          "text": [
            "Epoch 1/4\n",
            "70000/70000 [==============================] - 8s 120us/step - loss: 0.1578 - acc: 0.9581\n",
            "Epoch 2/4\n",
            "70000/70000 [==============================] - 7s 101us/step - loss: 0.0341 - acc: 0.9899\n",
            "Epoch 3/4\n",
            "70000/70000 [==============================] - 7s 101us/step - loss: 0.0173 - acc: 0.9944\n",
            "Epoch 4/4\n",
            "70000/70000 [==============================] - 7s 101us/step - loss: 0.0128 - acc: 0.9959\n"
          ],
          "name": "stdout"
        },
        {
          "output_type": "execute_result",
          "data": {
            "text/plain": [
              "<keras.callbacks.History at 0x7f19c566f5f8>"
            ]
          },
          "metadata": {
            "tags": []
          },
          "execution_count": 21
        }
      ]
    },
    {
      "metadata": {
        "id": "joscyFZqAAkT",
        "colab_type": "text"
      },
      "cell_type": "markdown",
      "source": [
        "### Predict Model Output\n"
      ]
    },
    {
      "metadata": {
        "id": "_1-vBrdyOqSU",
        "colab_type": "code",
        "colab": {
          "base_uri": "https://localhost:8080/",
          "height": 35
        },
        "outputId": "41cc6fab-67cc-4700-d6b6-4ea970ca00e3"
      },
      "cell_type": "code",
      "source": [
        "y_hat = cnn_model.predict(X,batch_size=400, verbose=1)"
      ],
      "execution_count": 0,
      "outputs": [
        {
          "output_type": "stream",
          "text": [
            "70000/70000 [==============================] - 3s 37us/step\n"
          ],
          "name": "stdout"
        }
      ]
    },
    {
      "metadata": {
        "id": "AqyaGEwHAw02",
        "colab_type": "text"
      },
      "cell_type": "markdown",
      "source": [
        "### Plot Model Performance"
      ]
    },
    {
      "metadata": {
        "id": "-BFcYdkmA2Wf",
        "colab_type": "code",
        "colab": {
          "base_uri": "https://localhost:8080/",
          "height": 743
        },
        "outputId": "648c3e8e-9edf-4f44-c56c-4e388a8c7498"
      },
      "cell_type": "code",
      "source": [
        "plot_confusion_matrix(y_, label_coder.inverse_transform(y_hat), label_coder.classes_);"
      ],
      "execution_count": 0,
      "outputs": [
        {
          "output_type": "stream",
          "text": [
            "Confusion matrix, without normalization\n"
          ],
          "name": "stdout"
        },
        {
          "output_type": "display_data",
          "data": {
            "image/png": "[encoded data removed]",
            "text/plain": [
              "<matplotlib.figure.Figure at 0x7f19c4495828>"
            ]
          },
          "metadata": {
            "tags": []
          }
        }
      ]
    },
    {
      "metadata": {
        "id": "B1e7I7cFBEuT",
        "colab_type": "text"
      },
      "cell_type": "markdown",
      "source": [
        "# Callbacks\n",
        "\n",
        "Keras has a convenient mechanism for taking actions in between epochs called \"callbacks\".  See https://keras.io/callbacks/ for details.\n",
        "\n",
        "### Learning rate schedule\n",
        "We are going to define a `LearningRateScheduler` callback, which will adjust the learning rate as we progress through epochs."
      ]
    },
    {
      "metadata": {
        "id": "K9D1ThdwTrwC",
        "colab_type": "code",
        "colab": {}
      },
      "cell_type": "code",
      "source": [
        "def lrs(epoch):\n",
        "    print(f'epoch = {epoch}')\n",
        "    lr = 0.001**(1+epoch/10)\n",
        "    print(f'lr = {lr}')\n",
        "    return lr\n",
        "\n",
        "calls = [LearningRateScheduler(lrs)]"
      ],
      "execution_count": 0,
      "outputs": []
    },
    {
      "metadata": {
        "id": "8ihdJFMhBycM",
        "colab_type": "text"
      },
      "cell_type": "markdown",
      "source": [
        "## Now retrain with this callback"
      ]
    },
    {
      "metadata": {
        "id": "oeu4y8E5B9er",
        "colab_type": "code",
        "colab": {
          "base_uri": "https://localhost:8080/",
          "height": 349
        },
        "outputId": "1b14a646-7586-4d1e-cc32-2e8c2835256f"
      },
      "cell_type": "code",
      "source": [
        "cnn_model.set_weights(cnn_original_weights) # reset model\n",
        "cnn_model.compile(loss='categorical_crossentropy', \n",
        "                  optimizer=keras.optimizers.Adam(lr=.001),\n",
        "                  metrics=['accuracy'])\n",
        "cnn_model.fit(X,Y, \n",
        "              batch_size=400, \n",
        "              epochs=4,\n",
        "              validation_split=.05,\n",
        "              callbacks=calls)"
      ],
      "execution_count": 0,
      "outputs": [
        {
          "output_type": "stream",
          "text": [
            "Train on 66500 samples, validate on 3500 samples\n",
            "Epoch 1/4\n",
            "epoch = 0\n",
            "lr = 0.001\n",
            "66500/66500 [==============================] - 8s 116us/step - loss: 0.1682 - acc: 0.9556 - val_loss: 0.0945 - val_acc: 0.9734\n",
            "Epoch 2/4\n",
            "epoch = 1\n",
            "lr = 0.000501187233627272\n",
            "66500/66500 [==============================] - 7s 103us/step - loss: 0.0263 - acc: 0.9924 - val_loss: 0.0323 - val_acc: 0.9914\n",
            "Epoch 3/4\n",
            "epoch = 2\n",
            "lr = 0.0002511886431509581\n",
            "66500/66500 [==============================] - 7s 103us/step - loss: 0.0078 - acc: 0.9981 - val_loss: 0.0270 - val_acc: 0.9929\n",
            "Epoch 4/4\n",
            "epoch = 3\n",
            "lr = 0.0001258925411794167\n",
            "66500/66500 [==============================] - 7s 103us/step - loss: 0.0037 - acc: 0.9993 - val_loss: 0.0253 - val_acc: 0.9929\n"
          ],
          "name": "stdout"
        },
        {
          "output_type": "execute_result",
          "data": {
            "text/plain": [
              "<keras.callbacks.History at 0x7f19c3f335f8>"
            ]
          },
          "metadata": {
            "tags": []
          },
          "execution_count": 25
        }
      ]
    },
    {
      "metadata": {
        "id": "_-RXrdpG_ALN",
        "colab_type": "code",
        "colab": {}
      },
      "cell_type": "code",
      "source": [
        ""
      ],
      "execution_count": 0,
      "outputs": []
    }
  ]
}